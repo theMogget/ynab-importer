{
 "cells": [
  {
   "cell_type": "code",
   "execution_count": 9,
   "metadata": {},
   "outputs": [],
   "source": [
    "import requests\n",
    "import re\n",
    "import textract\n",
    "import tabula\n",
    "import pandas as pd"
   ]
  },
  {
   "cell_type": "code",
   "execution_count": 2,
   "metadata": {},
   "outputs": [],
   "source": [
    "multiplier_path = \"/Users/kai/repositories/ynab-importer/multiplier_jul2020.csv\"\n",
    "livefresh_path = \"/Users/kai/repositories/ynab-importer/livefresh.pdf\""
   ]
  },
  {
   "cell_type": "code",
   "execution_count": 3,
   "metadata": {},
   "outputs": [],
   "source": [
    "header_pattern = \"Transaction Date\""
   ]
  },
  {
   "cell_type": "code",
   "execution_count": 4,
   "metadata": {},
   "outputs": [],
   "source": [
    "text = textract.process(livefresh_path)"
   ]
  },
  {
   "cell_type": "code",
   "execution_count": 13,
   "metadata": {},
   "outputs": [],
   "source": [
    "with open('extract_test.txt', 'w+') as fopen:\n",
    "    fopen.write(text.decode('utf-8'))"
   ]
  },
  {
   "cell_type": "code",
   "execution_count": 19,
   "metadata": {},
   "outputs": [],
   "source": [
    "# Note the left, top, height, and width parameters and calculate the following:\n",
    "\n",
    "#     y1 = top\n",
    "#     x1 = left\n",
    "#     y2 = top + height\n",
    "#     x2 = left + width\n",
    "\n",
    "df = tabula.read_pdf(livefresh_path, pages=[1], area=(431.57, 62.15, 431.57+317.81, 62.15+471.31))"
   ]
  },
  {
   "cell_type": "code",
   "execution_count": 20,
   "metadata": {},
   "outputs": [
    {
     "data": {
      "text/plain": [
       "list"
      ]
     },
     "execution_count": 20,
     "metadata": {},
     "output_type": "execute_result"
    }
   ],
   "source": [
    "type(df)"
   ]
  },
  {
   "cell_type": "code",
   "execution_count": 21,
   "metadata": {},
   "outputs": [
    {
     "data": {
      "text/plain": [
       "[    13 JUN                  SHOPEE - SINGAPORE  Unnamed: 0  \\\n",
       " 0   14 JUN               NTUC FP-TELOK BLANGAH         NaN   \n",
       " 1   14 JUN      YOU NEED A BUDGET801-6109169UT         NaN   \n",
       " 2      NaN                  U. S. DOLLAR 83.99         NaN   \n",
       " 3   14 JUN                           AMAZON SG         NaN   \n",
       " 4   14 JUN                           AMAZON SG         NaN   \n",
       " 5   18 JUN  BOOKDEPOSITORY.COM441452307905  GB         NaN   \n",
       " 6   18 JUN                  SHOPEE - SINGAPORE         NaN   \n",
       " 7   19 JUN                 CUTTOUR HAIR STUDIO         NaN   \n",
       " 8   23 JUN                       AMAZON RETAIL         NaN   \n",
       " 9   23 JUN                  SHOPEE - SINGAPORE         NaN   \n",
       " 10  23 JUN                  SHOPEE - SINGAPORE         NaN   \n",
       " 11     NaN                                 NaN         NaN   \n",
       " 12  23 JUN                  SHOPEE - SINGAPORE         NaN   \n",
       " 13  24 JUN                    BUS/MRT 36794241         NaN   \n",
       " 14  26 JUN             STEAMGAMES.COMSEATTLEDE         NaN   \n",
       " 15  30 JUN                  SHOPEE - SINGAPORE         NaN   \n",
       " 16  02 JUL              LIBERTY WIRELESS PTE L         NaN   \n",
       " 17  03 JUL                COMFORT/CITYCAB TAXI         NaN   \n",
       " 18  03 JUL              SINGAPORE POLICE FORCE         NaN   \n",
       " 19  03 JUL                  SHOPEE - SINGAPORE         NaN   \n",
       " 20  05 JUL              OMISESG*CDG DRIVINGCEN         NaN   \n",
       " 21  07 JUL              AMZNPRIMESG MEMBERSHIP         NaN   \n",
       " 22  11 JUL                COMFORT/CITYCAB TAXI         NaN   \n",
       " \n",
       "                  Unnamed: 1   99.00  \n",
       " 0                       NaN    6.50  \n",
       " 1                       NaN  121.29  \n",
       " 2                       NaN     NaN  \n",
       " 3                       NaN   22.46  \n",
       " 4                       NaN   45.91  \n",
       " 5                       NaN   16.40  \n",
       " 6                       NaN    1.34  \n",
       " 7                       NaN  127.00  \n",
       " 8                       NaN    8.45  \n",
       " 9                       NaN    5.22  \n",
       " 10                      NaN    1.39  \n",
       " 11  Co. Reg. No. 196800306E     NaN  \n",
       " 12                      NaN    9.74  \n",
       " 13                      NaN    2.34  \n",
       " 14                      NaN   26.06  \n",
       " 15                      NaN   13.93  \n",
       " 16                      NaN   18.89  \n",
       " 17                      NaN   10.90  \n",
       " 18                      NaN   25.00  \n",
       " 19                      NaN    9.61  \n",
       " 20                      NaN  181.20  \n",
       " 21                      NaN    2.99  \n",
       " 22                      NaN   15.28  ]"
      ]
     },
     "execution_count": 21,
     "metadata": {},
     "output_type": "execute_result"
    }
   ],
   "source": [
    "df"
   ]
  },
  {
   "cell_type": "code",
   "execution_count": null,
   "metadata": {},
   "outputs": [],
   "source": []
  }
 ],
 "metadata": {
  "kernelspec": {
   "display_name": "Python 3",
   "language": "python",
   "name": "python3"
  },
  "language_info": {
   "codemirror_mode": {
    "name": "ipython",
    "version": 3
   },
   "file_extension": ".py",
   "mimetype": "text/x-python",
   "name": "python",
   "nbconvert_exporter": "python",
   "pygments_lexer": "ipython3",
   "version": "3.7.7"
  }
 },
 "nbformat": 4,
 "nbformat_minor": 4
}
