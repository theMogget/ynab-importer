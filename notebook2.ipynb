{
 "cells": [
  {
   "cell_type": "code",
   "execution_count": 1,
   "metadata": {},
   "outputs": [],
   "source": [
    "import requests\n",
    "import re\n",
    "import pandas as pd\n",
    "import datetime\n",
    "import json"
   ]
  },
  {
   "cell_type": "code",
   "execution_count": 10,
   "metadata": {},
   "outputs": [],
   "source": [
    "multiplier_path = \"/Users/kai/repositories/ynab-importer/multiplier_jul2020_test.csv\"\n",
    "livefresh_path = \"/Users/kai/repositories/ynab-importer/LiveFresh current - Sheet1.csv\""
   ]
  },
  {
   "cell_type": "code",
   "execution_count": 31,
   "metadata": {},
   "outputs": [],
   "source": [
    "def truncate_file(fpath, pattern):\n",
    "    \"\"\"Locate the line where the table starts and truncate the file\"\"\"\n",
    "    with open(fpath, 'r') as fopen:\n",
    "        lines = fopen.readlines()\n",
    "        for i in range(len(lines)):\n",
    "            if re.match(pattern, lines[i]):\n",
    "                break\n",
    "        res = [l.strip() for l in lines[i:] if l != '\\n']\n",
    "    with open('temp.csv', 'w') as fout:\n",
    "        for l in res:\n",
    "            fout.write(l[:-1]+'\\n')\n",
    "    return res"
   ]
  },
  {
   "cell_type": "code",
   "execution_count": 32,
   "metadata": {},
   "outputs": [],
   "source": [
    "truncated = truncate_file(multiplier_path, 'Transaction Date')"
   ]
  },
  {
   "cell_type": "code",
   "execution_count": 33,
   "metadata": {},
   "outputs": [],
   "source": [
    "df = pd.read_csv('temp.csv')"
   ]
  },
  {
   "cell_type": "code",
   "execution_count": 34,
   "metadata": {},
   "outputs": [
    {
     "data": {
      "text/html": [
       "<div>\n",
       "<style scoped>\n",
       "    .dataframe tbody tr th:only-of-type {\n",
       "        vertical-align: middle;\n",
       "    }\n",
       "\n",
       "    .dataframe tbody tr th {\n",
       "        vertical-align: top;\n",
       "    }\n",
       "\n",
       "    .dataframe thead th {\n",
       "        text-align: right;\n",
       "    }\n",
       "</style>\n",
       "<table border=\"1\" class=\"dataframe\">\n",
       "  <thead>\n",
       "    <tr style=\"text-align: right;\">\n",
       "      <th></th>\n",
       "      <th>Transaction Date</th>\n",
       "      <th>Value Date</th>\n",
       "      <th>Statement Code</th>\n",
       "      <th>Reference</th>\n",
       "      <th>Debit Amount</th>\n",
       "      <th>Credit Amount</th>\n",
       "      <th>Client Reference</th>\n",
       "      <th>Additional Reference</th>\n",
       "      <th>Misc Referenc</th>\n",
       "    </tr>\n",
       "  </thead>\n",
       "  <tbody>\n",
       "    <tr>\n",
       "      <th>0</th>\n",
       "      <td>18 Jul 2020</td>\n",
       "      <td>NaN</td>\n",
       "      <td>ADV</td>\n",
       "      <td>BILL</td>\n",
       "      <td>770.01</td>\n",
       "      <td></td>\n",
       "      <td>DBSC-8888888884     : I-BANK</td>\n",
       "      <td>NaN</td>\n",
       "      <td>NaN</td>\n",
       "    </tr>\n",
       "    <tr>\n",
       "      <th>1</th>\n",
       "      <td>13 Jul 2020</td>\n",
       "      <td>NaN</td>\n",
       "      <td>GR</td>\n",
       "      <td>IBG</td>\n",
       "      <td></td>\n",
       "      <td>43.57</td>\n",
       "      <td>CONCUR TECHNOLOGIES SG PTE LTD</td>\n",
       "      <td>C8888HFKX8888</td>\n",
       "      <td>SUPP</td>\n",
       "    </tr>\n",
       "    <tr>\n",
       "      <th>2</th>\n",
       "      <td>07 Jul 2020</td>\n",
       "      <td>NaN</td>\n",
       "      <td>INT</td>\n",
       "      <td>NaN</td>\n",
       "      <td></td>\n",
       "      <td>36.00</td>\n",
       "      <td>Preferential rate based on total</td>\n",
       "      <td>monthly transactions</td>\n",
       "      <td>NaN</td>\n",
       "    </tr>\n",
       "    <tr>\n",
       "      <th>3</th>\n",
       "      <td>04 Jul 2020</td>\n",
       "      <td>NaN</td>\n",
       "      <td>ADV</td>\n",
       "      <td>BILL</td>\n",
       "      <td>2696.62</td>\n",
       "      <td></td>\n",
       "      <td>ITX -S88888888            : I-BANK</td>\n",
       "      <td>NaN</td>\n",
       "      <td>NaN</td>\n",
       "    </tr>\n",
       "  </tbody>\n",
       "</table>\n",
       "</div>"
      ],
      "text/plain": [
       "  Transaction Date  Value Date Statement Code Reference Debit Amount  \\\n",
       "0      18 Jul 2020         NaN            ADV      BILL       770.01   \n",
       "1      13 Jul 2020         NaN             GR       IBG                \n",
       "2      07 Jul 2020         NaN            INT       NaN                \n",
       "3      04 Jul 2020         NaN            ADV      BILL      2696.62   \n",
       "\n",
       "  Credit Amount                    Client Reference  Additional Reference  \\\n",
       "0                      DBSC-8888888884     : I-BANK                   NaN   \n",
       "1         43.57      CONCUR TECHNOLOGIES SG PTE LTD         C8888HFKX8888   \n",
       "2         36.00    Preferential rate based on total  monthly transactions   \n",
       "3                ITX -S88888888            : I-BANK                   NaN   \n",
       "\n",
       "   Misc Referenc  \n",
       "0            NaN  \n",
       "1           SUPP  \n",
       "2            NaN  \n",
       "3            NaN  "
      ]
     },
     "execution_count": 34,
     "metadata": {},
     "output_type": "execute_result"
    }
   ],
   "source": [
    "df.head()"
   ]
  },
  {
   "cell_type": "code",
   "execution_count": 35,
   "metadata": {},
   "outputs": [],
   "source": [
    "mapping = {\n",
    "    'Transaction Date': 'date',\n",
    "    'Debit Amount': 'debit',\n",
    "    'Credit Amount': 'credit',\n",
    "    'Client Reference': 'payee_name'\n",
    "}\n",
    "date_format = '%d %b %Y'\n"
   ]
  },
  {
   "cell_type": "code",
   "execution_count": 36,
   "metadata": {},
   "outputs": [],
   "source": [
    "# Select cols and rename\n",
    "df = df[mapping.keys()]\n",
    "data = df.rename(columns=mapping)\n",
    "data['date'] = pd.to_datetime(data['date'], format=date_format)"
   ]
  },
  {
   "cell_type": "code",
   "execution_count": 37,
   "metadata": {},
   "outputs": [
    {
     "data": {
      "text/html": [
       "<div>\n",
       "<style scoped>\n",
       "    .dataframe tbody tr th:only-of-type {\n",
       "        vertical-align: middle;\n",
       "    }\n",
       "\n",
       "    .dataframe tbody tr th {\n",
       "        vertical-align: top;\n",
       "    }\n",
       "\n",
       "    .dataframe thead th {\n",
       "        text-align: right;\n",
       "    }\n",
       "</style>\n",
       "<table border=\"1\" class=\"dataframe\">\n",
       "  <thead>\n",
       "    <tr style=\"text-align: right;\">\n",
       "      <th></th>\n",
       "      <th>date</th>\n",
       "      <th>debit</th>\n",
       "      <th>credit</th>\n",
       "      <th>payee_name</th>\n",
       "    </tr>\n",
       "  </thead>\n",
       "  <tbody>\n",
       "    <tr>\n",
       "      <th>0</th>\n",
       "      <td>2020-07-18</td>\n",
       "      <td>770.01</td>\n",
       "      <td></td>\n",
       "      <td>DBSC-8888888884     : I-BANK</td>\n",
       "    </tr>\n",
       "    <tr>\n",
       "      <th>1</th>\n",
       "      <td>2020-07-13</td>\n",
       "      <td></td>\n",
       "      <td>43.57</td>\n",
       "      <td>CONCUR TECHNOLOGIES SG PTE LTD</td>\n",
       "    </tr>\n",
       "    <tr>\n",
       "      <th>2</th>\n",
       "      <td>2020-07-07</td>\n",
       "      <td></td>\n",
       "      <td>36.00</td>\n",
       "      <td>Preferential rate based on total</td>\n",
       "    </tr>\n",
       "    <tr>\n",
       "      <th>3</th>\n",
       "      <td>2020-07-04</td>\n",
       "      <td>2696.62</td>\n",
       "      <td></td>\n",
       "      <td>ITX -S88888888            : I-BANK</td>\n",
       "    </tr>\n",
       "  </tbody>\n",
       "</table>\n",
       "</div>"
      ],
      "text/plain": [
       "        date     debit  credit                          payee_name\n",
       "0 2020-07-18    770.01                DBSC-8888888884     : I-BANK\n",
       "1 2020-07-13             43.57      CONCUR TECHNOLOGIES SG PTE LTD\n",
       "2 2020-07-07             36.00    Preferential rate based on total\n",
       "3 2020-07-04   2696.62          ITX -S88888888            : I-BANK"
      ]
     },
     "execution_count": 37,
     "metadata": {},
     "output_type": "execute_result"
    }
   ],
   "source": [
    "data"
   ]
  },
  {
   "cell_type": "code",
   "execution_count": 8,
   "metadata": {},
   "outputs": [
    {
     "name": "stdout",
     "output_type": "stream",
     "text": [
      "Today's date: 2020_07_25\n"
     ]
    }
   ],
   "source": [
    "from datetime import date\n",
    "\n",
    "today = str(date.today()).replace('-','_')\n",
    "print(\"Today's date:\", today)"
   ]
  },
  {
   "cell_type": "code",
   "execution_count": 38,
   "metadata": {},
   "outputs": [],
   "source": [
    "data.to_csv('test.csv', index=False)"
   ]
  },
  {
   "cell_type": "code",
   "execution_count": null,
   "metadata": {},
   "outputs": [],
   "source": []
  }
 ],
 "metadata": {
  "kernelspec": {
   "display_name": "Python 3",
   "language": "python",
   "name": "python3"
  },
  "language_info": {
   "codemirror_mode": {
    "name": "ipython",
    "version": 3
   },
   "file_extension": ".py",
   "mimetype": "text/x-python",
   "name": "python",
   "nbconvert_exporter": "python",
   "pygments_lexer": "ipython3",
   "version": "3.7.4"
  }
 },
 "nbformat": 4,
 "nbformat_minor": 4
}
